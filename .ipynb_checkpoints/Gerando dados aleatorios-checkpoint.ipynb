{
 "cells": [
  {
   "cell_type": "code",
   "execution_count": 1,
   "metadata": {},
   "outputs": [
    {
     "data": {
      "text/html": [
       "<div>\n",
       "<style scoped>\n",
       "    .dataframe tbody tr th:only-of-type {\n",
       "        vertical-align: middle;\n",
       "    }\n",
       "\n",
       "    .dataframe tbody tr th {\n",
       "        vertical-align: top;\n",
       "    }\n",
       "\n",
       "    .dataframe thead th {\n",
       "        text-align: right;\n",
       "    }\n",
       "</style>\n",
       "<table border=\"1\" class=\"dataframe\">\n",
       "  <thead>\n",
       "    <tr style=\"text-align: right;\">\n",
       "      <th></th>\n",
       "      <th>preco</th>\n",
       "      <th>vendido</th>\n",
       "      <th>idade_do_carro</th>\n",
       "      <th>km_por_ano</th>\n",
       "    </tr>\n",
       "  </thead>\n",
       "  <tbody>\n",
       "    <tr>\n",
       "      <th>0</th>\n",
       "      <td>30941.02</td>\n",
       "      <td>1</td>\n",
       "      <td>21</td>\n",
       "      <td>35085.308544</td>\n",
       "    </tr>\n",
       "    <tr>\n",
       "      <th>1</th>\n",
       "      <td>40557.96</td>\n",
       "      <td>1</td>\n",
       "      <td>23</td>\n",
       "      <td>12622.084992</td>\n",
       "    </tr>\n",
       "    <tr>\n",
       "      <th>2</th>\n",
       "      <td>89627.50</td>\n",
       "      <td>0</td>\n",
       "      <td>15</td>\n",
       "      <td>11440.826496</td>\n",
       "    </tr>\n",
       "    <tr>\n",
       "      <th>3</th>\n",
       "      <td>95276.14</td>\n",
       "      <td>0</td>\n",
       "      <td>6</td>\n",
       "      <td>43167.434112</td>\n",
       "    </tr>\n",
       "    <tr>\n",
       "      <th>4</th>\n",
       "      <td>117384.68</td>\n",
       "      <td>1</td>\n",
       "      <td>7</td>\n",
       "      <td>12770.144640</td>\n",
       "    </tr>\n",
       "  </tbody>\n",
       "</table>\n",
       "</div>"
      ],
      "text/plain": [
       "       preco  vendido  idade_do_carro    km_por_ano\n",
       "0   30941.02        1              21  35085.308544\n",
       "1   40557.96        1              23  12622.084992\n",
       "2   89627.50        0              15  11440.826496\n",
       "3   95276.14        0               6  43167.434112\n",
       "4  117384.68        1               7  12770.144640"
      ]
     },
     "execution_count": 1,
     "metadata": {},
     "output_type": "execute_result"
    }
   ],
   "source": [
    "import pandas as pd\n",
    "import numpy as np\n",
    "from datetime import datetime\n",
    "from sklearn.tree import DecisionTreeClassifier\n",
    "\n",
    "uri = 'https://gist.githubusercontent.com/guilhermesilveira/4d1d4a16ccbf6ea4e0a64a38a24ec884/raw/afd05cb0c796d18f3f5a6537053ded308ba94bf7/car-prices.csv'\n",
    "dados = pd.read_csv(uri)\n",
    "renomear = {\n",
    "        'mileage_per_year':'milhas_por_ano',\n",
    "        'model_year':'ano_do_modelo',\n",
    "        'price':'preco',\n",
    "        'sold':'vendido'\n",
    "}\n",
    "\n",
    "dados = dados.rename(columns=renomear)\n",
    "#dados.head()\n",
    "\n",
    "troca = {\n",
    "        'yes':1,\n",
    "         'no':0\n",
    "}\n",
    "dados.vendido= dados.vendido.map(troca)\n",
    "\n",
    "ano_atual = datetime.today().year\n",
    "dados['idade_do_carro'] = ano_atual - dados.ano_do_modelo\n",
    "\n",
    "dados['km_por_ano'] = dados.milhas_por_ano * 1.609344\n",
    "dados = dados.drop(columns = [\"Unnamed: 0\", \"milhas_por_ano\", \"ano_do_modelo\"], axis=1)\n",
    "\n",
    "x = dados[[\"preco\",\"idade_do_carro\",\"km_por_ano\"]]\n",
    "y =  dados[\"vendido\"]\n",
    "dados.head()"
   ]
  },
  {
   "cell_type": "markdown",
   "metadata": {},
   "source": [
    "# Gerando dados aleatórios\n",
    "É importante para treinar o modelo com grupos que podem surgir ao longo do tempo e garantir sua acurácia mesmo assim"
   ]
  },
  {
   "cell_type": "code",
   "execution_count": 2,
   "metadata": {},
   "outputs": [
    {
     "data": {
      "text/html": [
       "<div>\n",
       "<style scoped>\n",
       "    .dataframe tbody tr th:only-of-type {\n",
       "        vertical-align: middle;\n",
       "    }\n",
       "\n",
       "    .dataframe tbody tr th {\n",
       "        vertical-align: top;\n",
       "    }\n",
       "\n",
       "    .dataframe thead th {\n",
       "        text-align: right;\n",
       "    }\n",
       "</style>\n",
       "<table border=\"1\" class=\"dataframe\">\n",
       "  <thead>\n",
       "    <tr style=\"text-align: right;\">\n",
       "      <th></th>\n",
       "      <th>preco</th>\n",
       "      <th>vendido</th>\n",
       "      <th>idade_do_carro</th>\n",
       "      <th>km_por_ano</th>\n",
       "      <th>modelo_aleatorio</th>\n",
       "    </tr>\n",
       "  </thead>\n",
       "  <tbody>\n",
       "    <tr>\n",
       "      <th>0</th>\n",
       "      <td>30941.02</td>\n",
       "      <td>1</td>\n",
       "      <td>21</td>\n",
       "      <td>35085.308544</td>\n",
       "      <td>22</td>\n",
       "    </tr>\n",
       "    <tr>\n",
       "      <th>1</th>\n",
       "      <td>40557.96</td>\n",
       "      <td>1</td>\n",
       "      <td>23</td>\n",
       "      <td>12622.084992</td>\n",
       "      <td>21</td>\n",
       "    </tr>\n",
       "    <tr>\n",
       "      <th>2</th>\n",
       "      <td>89627.50</td>\n",
       "      <td>0</td>\n",
       "      <td>15</td>\n",
       "      <td>11440.826496</td>\n",
       "      <td>14</td>\n",
       "    </tr>\n",
       "    <tr>\n",
       "      <th>3</th>\n",
       "      <td>95276.14</td>\n",
       "      <td>0</td>\n",
       "      <td>6</td>\n",
       "      <td>43167.434112</td>\n",
       "      <td>4</td>\n",
       "    </tr>\n",
       "    <tr>\n",
       "      <th>4</th>\n",
       "      <td>117384.68</td>\n",
       "      <td>1</td>\n",
       "      <td>7</td>\n",
       "      <td>12770.144640</td>\n",
       "      <td>9</td>\n",
       "    </tr>\n",
       "  </tbody>\n",
       "</table>\n",
       "</div>"
      ],
      "text/plain": [
       "       preco  vendido  idade_do_carro    km_por_ano  modelo_aleatorio\n",
       "0   30941.02        1              21  35085.308544                22\n",
       "1   40557.96        1              23  12622.084992                21\n",
       "2   89627.50        0              15  11440.826496                14\n",
       "3   95276.14        0               6  43167.434112                 4\n",
       "4  117384.68        1               7  12770.144640                 9"
      ]
     },
     "execution_count": 2,
     "metadata": {},
     "output_type": "execute_result"
    }
   ],
   "source": [
    "SEED = 5\n",
    "np.random.seed(SEED)\n",
    "dados[\"modelo_aleatorio\"] = dados.idade_do_carro + np.random.randint(-2,3,size=10000) #+ minimo_valor\n",
    "minimo_valor = abs(dados.modelo_aleatorio.min()) #para evitar q o menor valor seja negativo\n",
    "\n",
    "\n",
    "dados.head()"
   ]
  },
  {
   "cell_type": "code",
   "execution_count": 3,
   "metadata": {},
   "outputs": [],
   "source": [
    "def imprime_resultados(resultados):\n",
    "    media = resultado['test_score'].mean()\n",
    "    dp = resultado['test_score'].std()\n",
    "    print(\"Acurácia média: %.2f%%\" % (media*100))\n",
    "    print(\"Intervalo de Acurácia: %.2f - %.2f%%\" % ((media-2*dp)*100, (media+2*dp)*100))"
   ]
  },
  {
   "cell_type": "code",
   "execution_count": 4,
   "metadata": {},
   "outputs": [],
   "source": [
    "dados_azar = dados.sort_values(\"vendido\", ascending=True)\n",
    "x_azar = dados_azar[[\"preco\",\"idade_do_carro\",\"km_por_ano\"]]\n",
    "y_azar =  dados_azar[\"vendido\"]"
   ]
  },
  {
   "cell_type": "markdown",
   "metadata": {},
   "source": [
    "# O GroupKFold agrupa por grupos, então precisamos passar ao cross_validate a coluna "
   ]
  },
  {
   "cell_type": "code",
   "execution_count": 13,
   "metadata": {},
   "outputs": [
    {
     "name": "stdout",
     "output_type": "stream",
     "text": [
      "Acurácia média: 75.79%\n",
      "Intervalo de Acurácia: 73.16 - 78.41%\n"
     ]
    }
   ],
   "source": [
    "from sklearn.model_selection import cross_validate\n",
    "from sklearn.model_selection import GroupKFold\n",
    "\n",
    "SEED = 5 #número para diminuir a aleatoriedade da separação \n",
    "np.random.seed(SEED)\n",
    "\n",
    "cv = GroupKFold(n_splits=10)\n",
    "\n",
    "modelo = DecisionTreeClassifier(max_depth=2)\n",
    "resultado = cross_validate(modelo,x_azar, y_azar, cv=cv, groups=dados.modelo_aleatorio, return_train_score=False) # cv = 5 a 10 é a melhor opção\n",
    "imprime_resultados(resultado)"
   ]
  },
  {
   "cell_type": "code",
   "execution_count": 24,
   "metadata": {},
   "outputs": [
    {
     "name": "stdout",
     "output_type": "stream",
     "text": [
      "Treinaremos com 7500 elementos e testaremos com 2500 elementos\n"
     ]
    }
   ],
   "source": [
    "from sklearn.model_selection import train_test_split\n",
    "from sklearn.metrics import accuracy_score\n",
    "raw_treino_x, raw_teste_x, treino_y, teste_y = train_test_split(      x, #dados a serem analisados\n",
    "                                                              y) #classes para alocar os dados                                                             #random_state = SEED, #parâmetro para diminuir a aleatoriedade do métod                                                             test_size = 0.25, #determina a quantidade de elementos do teste em relação ao total (ou seja 25% do total                                                             stratify = y # parâmetro para acertar a proporcionalidade da separação de                                                               )\n",
    "print(\"Treinaremos com %d elementos e testaremos com %d elementos\" % (len(raw_treino_x),len(raw_teste_x)))\n"
   ]
  },
  {
   "cell_type": "code",
   "execution_count": 22,
   "metadata": {},
   "outputs": [
    {
     "name": "stdout",
     "output_type": "stream",
     "text": [
      "Acurácia do modelo = 77.16%\n"
     ]
    }
   ],
   "source": [
    "from sklearn.preprocessing import StandardScaler\n",
    "from sklearn.svm import SVC\n",
    "\n",
    "SEED = 5\n",
    "np.random.seed(SEED)\n",
    "\n",
    "escalador = StandardScaler()\n",
    "escalador.fit(raw_treino_x)\n",
    "treino_escalado = escalador.transform(raw_treino_x)\n",
    "teste_escalado = escalador.transform(raw_teste_x)\n",
    "\n",
    "modelo = SVC()\n",
    "\n",
    "modelo.fit(treino_escalado, treino_y) #faz o modelo treinar com os dados cru de treino\n",
    "previsoes = modelo.predict(teste_escalado) #testa o modelo com os dados de teste_X   \n",
    "\n",
    "acuracia = accuracy_score(teste_y, previsoes)*100 #verifica a acurácia com os resultados esperados e os conseguidos na previsão\n",
    "print(\"Acurácia do modelo = %.2f%%\" % acuracia) "
   ]
  },
  {
   "cell_type": "markdown",
   "metadata": {},
   "source": [
    "# Forma errada"
   ]
  },
  {
   "cell_type": "code",
   "execution_count": 27,
   "metadata": {},
   "outputs": [],
   "source": [
    "escalador.fit(x_azar)\n",
    "x_azar_escalado = escalador.transform(x_azar)"
   ]
  },
  {
   "cell_type": "code",
   "execution_count": 28,
   "metadata": {},
   "outputs": [
    {
     "name": "stdout",
     "output_type": "stream",
     "text": [
      "Acurácia média: 76.65%\n",
      "Intervalo de Acurácia: 74.09 - 79.21%\n"
     ]
    }
   ],
   "source": [
    "from sklearn.model_selection import cross_validate\n",
    "from sklearn.model_selection import GroupKFold\n",
    "\n",
    "SEED = 5 #número para diminuir a aleatoriedade da separação \n",
    "np.random.seed(SEED)\n",
    "\n",
    "cv = GroupKFold(n_splits=10)\n",
    "\n",
    "modelo = SVC()\n",
    "resultado = cross_validate(modelo,x_azar_escalado, y_azar, cv=cv, groups=dados.modelo_aleatorio, return_train_score=False) # cv = 5 a 10 é a melhor opção\n",
    "imprime_resultados(resultado)"
   ]
  },
  {
   "cell_type": "code",
   "execution_count": null,
   "metadata": {},
   "outputs": [],
   "source": []
  },
  {
   "cell_type": "markdown",
   "metadata": {},
   "source": [
    "# Forma certa"
   ]
  },
  {
   "cell_type": "code",
   "execution_count": 31,
   "metadata": {},
   "outputs": [
    {
     "data": {
      "text/plain": [
       "Pipeline(steps=[('transformador', StandardScaler()), ('estimador', SVC())])"
      ]
     },
     "execution_count": 31,
     "metadata": {},
     "output_type": "execute_result"
    }
   ],
   "source": [
    "from sklearn.pipeline import Pipeline #cria um processo\n",
    "\n",
    "SEED = 5 #número para diminuir a aleatoriedade da separação \n",
    "np.random.seed(SEED)\n",
    "\n",
    "pipeline = Pipeline([('transformador',escalador), ('estimador', modelo)])\n",
    "pipeline"
   ]
  },
  {
   "cell_type": "code",
   "execution_count": 32,
   "metadata": {},
   "outputs": [
    {
     "name": "stdout",
     "output_type": "stream",
     "text": [
      "Acurácia média: 77.23%\n",
      "Intervalo de Acurácia: 74.14 - 80.32%\n"
     ]
    }
   ],
   "source": [
    "cv = GroupKFold(n_splits=10)\n",
    "\n",
    "modelo = SVC()\n",
    "resultado = cross_validate(modelo,x_azar, y_azar, cv=cv, groups=dados.modelo_aleatorio, return_train_score=False) # cv = 5 a 10 é a melhor opção\n",
    "imprime_resultados(resultado)"
   ]
  }
 ],
 "metadata": {
  "kernelspec": {
   "display_name": "Python 3",
   "language": "python",
   "name": "python3"
  },
  "language_info": {
   "codemirror_mode": {
    "name": "ipython",
    "version": 3
   },
   "file_extension": ".py",
   "mimetype": "text/x-python",
   "name": "python",
   "nbconvert_exporter": "python",
   "pygments_lexer": "ipython3",
   "version": "3.8.5"
  }
 },
 "nbformat": 4,
 "nbformat_minor": 4
}

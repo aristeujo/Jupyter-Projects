{
 "cells": [
  {
   "cell_type": "code",
   "execution_count": 1,
   "metadata": {},
   "outputs": [
    {
     "name": "stdout",
     "output_type": "stream",
     "text": [
      "Collecting package metadata (current_repodata.json): ...working... done\n",
      "Note: you may need to restart the kernel to use updated packages.\n",
      "\n",
      "Solving environment: ...working... done\n",
      "\n",
      "# All requested packages already installed.\n",
      "\n"
     ]
    }
   ],
   "source": [
    "conda install python-graphviz"
   ]
  },
  {
   "cell_type": "code",
   "execution_count": 2,
   "metadata": {},
   "outputs": [],
   "source": [
    "from sklearn.model_selection import train_test_split #importa o método para separação automática\n",
    "from sklearn.tree import DecisionTreeClassifier # usa o estimador DecisionTreeClassifier de classificação e que permite análise das tomadas de decisão\n",
    "from sklearn.metrics import accuracy_score\n",
    "#from sklearn.preprocessing import StandardScaler #importa classe StandardScaler que faz uma nova escala igual para os nossos dados \n",
    "import pandas as pd\n",
    "import numpy as np\n",
    "from sklearn.tree import export_graphviz #módulo export_graphviz traz as informações das  tomadas de decisão\n",
    "from datetime import datetime\n",
    "import graphviz  #biblioteca para plotar o gráfico"
   ]
  },
  {
   "cell_type": "code",
   "execution_count": 3,
   "metadata": {},
   "outputs": [],
   "source": [
    "uri = 'https://gist.githubusercontent.com/guilhermesilveira/4d1d4a16ccbf6ea4e0a64a38a24ec884/raw/afd05cb0c796d18f3f5a6537053ded308ba94bf7/car-prices.csv'\n",
    "dados = pd.read_csv(uri)\n",
    "renomear = {\n",
    "        'mileage_per_year':'milhas_por_ano',\n",
    "        'model_year':'ano_do_modelo',\n",
    "        'price':'preco',\n",
    "        'sold':'vendido'\n",
    "}\n",
    "\n",
    "dados = dados.rename(columns=renomear)\n",
    "#dados.head()"
   ]
  },
  {
   "cell_type": "code",
   "execution_count": 4,
   "metadata": {},
   "outputs": [],
   "source": [
    "troca = {\n",
    "        'yes':1,\n",
    "         'no':0\n",
    "}\n",
    "dados.vendido= dados.vendido.map(troca)\n",
    "\n",
    "ano_atual = datetime.today().year\n",
    "dados['idade_do_carro'] = ano_atual - dados.ano_do_modelo\n",
    "\n",
    "dados['km_por_ano'] = dados.milhas_por_ano * 1.609344\n",
    "dados = dados.drop(columns = [\"Unnamed: 0\", \"milhas_por_ano\", \"ano_do_modelo\"], axis=1)\n",
    "\n",
    "x = dados[[\"preco\",\"idade_do_carro\",\"km_por_ano\"]]\n",
    "y =  dados[\"vendido\"]"
   ]
  },
  {
   "cell_type": "code",
   "execution_count": 5,
   "metadata": {},
   "outputs": [],
   "source": [
    "SEED = 5 #número para diminuir a aleatoriedade da separação \n",
    "np.random.seed(SEED)\n",
    "modelo = DecisionTreeClassifier(max_depth=3) #inicializa a árvore de decisão com o parâmetro de \"profundidade\" em 3, ou seja, três camadas"
   ]
  },
  {
   "cell_type": "code",
   "execution_count": 6,
   "metadata": {},
   "outputs": [
    {
     "name": "stdout",
     "output_type": "stream",
     "text": [
      "Treinaremos com 7500 elementos e testaremos com 2500 elementos\n",
      "Acurácia do modelo = 79.28%\n"
     ]
    }
   ],
   "source": [
    "raw_treino_x, raw_teste_x, treino_y, teste_y = train_test_split(      x, #dados a serem analisados\n",
    "                                                              y, #classes para alocar os dados\n",
    "                                                              #random_state = SEED, #parâmetro para diminuir a aleatoriedade do método\n",
    "                                                              test_size = 0.25, #determina a quantidade de elementos do teste em relação ao total (ou seja 25% do total)\n",
    "                                                              stratify = y # parâmetro para acertar a proporcionalidade da separação de \n",
    "                                                               )\n",
    "print(\"Treinaremos com %d elementos e testaremos com %d elementos\" % (len(raw_treino_x),len(raw_teste_x)))\n",
    "\n",
    "modelo.fit(raw_treino_x, treino_y) #faz o modelo treinar com os dados cru de treino\n",
    "previsoes = modelo.predict(raw_teste_x) #testa o modelo com os dados de teste_X   \n",
    "\n",
    "acuracia = accuracy_score(teste_y, previsoes)*100 #verifica a acurácia com os resultados esperados e os conseguidos na previsão\n",
    "print(\"Acurácia do modelo = %.2f%%\" % acuracia) "
   ]
  },
  {
   "cell_type": "code",
   "execution_count": 35,
   "metadata": {},
   "outputs": [],
   "source": [
    "def imprime_resultados(resultados):\n",
    "    media = resultado['test_score'].mean()\n",
    "    dp = resultado['test_score'].std()\n",
    "    print(\"Acurácia média: %.2f%%\" % (media*100))\n",
    "    print(\"Intervalo de Acurácia: %.2f - %.2f%%\" % ((media-2*dp)*100, (media+2*dp)*100))"
   ]
  },
  {
   "cell_type": "code",
   "execution_count": null,
   "metadata": {},
   "outputs": [],
   "source": [
    "#from sklearn.model_selection import cross_validate\n",
    "from sklearn.model_selection import KFold\n",
    "\n",
    "SEED = 5 #número para diminuir a aleatoriedade da separação \n",
    "np.random.seed(SEED)\n",
    "\n",
    "cv = KFold(n_splits=10)\n",
    "\n",
    "modelo = DecisionTreeClassifier(max_depth=2)\n",
    "resultado = cross_validate(modelo,x, y, cv=cv, return_train_score=False) # cv = 5 a 10 é a melhor opção\n",
    "imprime_resultados(resultado)"
   ]
  },
  {
   "cell_type": "markdown",
   "metadata": {},
   "source": [
    "# Embaralhar antes de separar"
   ]
  },
  {
   "cell_type": "code",
   "execution_count": 38,
   "metadata": {},
   "outputs": [
    {
     "name": "stdout",
     "output_type": "stream",
     "text": [
      "Acurácia média: 75.78%\n",
      "Intervalo de Acurácia: 73.81 - 77.75%\n"
     ]
    }
   ],
   "source": [
    "SEED = 5 #número para diminuir a aleatoriedade da separação \n",
    "np.random.seed(SEED)\n",
    "\n",
    "cv = KFold(n_splits=10, shuffle = True)\n",
    "\n",
    "modelo = DecisionTreeClassifier(max_depth=2)\n",
    "resultado = cross_validate(modelo,x, y, cv=cv,return_train_score=False) # cv = 5 a 10 é a melhor opção\n",
    "imprime_resultados(resultado)"
   ]
  },
  {
   "cell_type": "markdown",
   "metadata": {},
   "source": [
    "# Simular situação horrível de azar\n",
    "pode ser azar ou um agrupamento de desbalanceado de dados"
   ]
  },
  {
   "cell_type": "code",
   "execution_count": 50,
   "metadata": {},
   "outputs": [],
   "source": [
    "dados_azar = dados.sort_values(\"vendido\", ascending=True)\n",
    "x_azar = dados_azar[[\"preco\",\"idade_do_carro\",\"km_por_ano\"]]\n",
    "y_azar =  dados_azar[\"vendido\"]"
   ]
  },
  {
   "cell_type": "code",
   "execution_count": 51,
   "metadata": {},
   "outputs": [
    {
     "name": "stdout",
     "output_type": "stream",
     "text": [
      "Acurácia média: 57.84%\n",
      "Intervalo de Acurácia: 34.29 - 81.39%\n"
     ]
    }
   ],
   "source": [
    "from sklearn.model_selection import KFold\n",
    "\n",
    "SEED = 5 #número para diminuir a aleatoriedade da separação \n",
    "np.random.seed(SEED)\n",
    "\n",
    "cv = KFold(n_splits=10)\n",
    "\n",
    "modelo = DecisionTreeClassifier(max_depth=2)\n",
    "resultado = cross_validate(modelo,x_azar, y_azar, cv=cv, return_train_score=False) # cv = 5 a 10 é a melhor opção\n",
    "imprime_resultados(resultado)"
   ]
  },
  {
   "cell_type": "code",
   "execution_count": 56,
   "metadata": {},
   "outputs": [
    {
     "name": "stdout",
     "output_type": "stream",
     "text": [
      "Acurácia média: 75.79%\n",
      "Intervalo de Acurácia: 73.79 - 77.79%\n"
     ]
    }
   ],
   "source": [
    "SEED = 5 #número para diminuir a aleatoriedade da separação \n",
    "np.random.seed(SEED)\n",
    "\n",
    "cv = KFold(n_splits=10, shuffle=True)\n",
    "\n",
    "modelo = DecisionTreeClassifier(max_depth=2)\n",
    "resultado = cross_validate(modelo,x_azar, y_azar, cv=cv, return_train_score=False) # cv = 5 a 10 é a melhor opção\n",
    "imprime_resultados(resultado)"
   ]
  },
  {
   "cell_type": "code",
   "execution_count": 57,
   "metadata": {},
   "outputs": [
    {
     "name": "stdout",
     "output_type": "stream",
     "text": [
      "Acurácia média: 75.78%\n",
      "Intervalo de Acurácia: 73.44 - 78.12%\n"
     ]
    }
   ],
   "source": [
    "from sklearn.model_selection import StratifiedKFold\n",
    "\n",
    "SEED = 5 #número para diminuir a aleatoriedade da separação \n",
    "np.random.seed(SEED)\n",
    "\n",
    "cv = StratifiedKFold(n_splits=10, shuffle=True)\n",
    "\n",
    "modelo = DecisionTreeClassifier(max_depth=2)\n",
    "resultado = cross_validate(modelo,x_azar, y_azar, cv=cv, return_train_score=False) # cv = 5 a 10 é a melhor opção\n",
    "imprime_resultados(resultado)"
   ]
  }
 ],
 "metadata": {
  "kernelspec": {
   "display_name": "Python 3",
   "language": "python",
   "name": "python3"
  },
  "language_info": {
   "codemirror_mode": {
    "name": "ipython",
    "version": 3
   },
   "file_extension": ".py",
   "mimetype": "text/x-python",
   "name": "python",
   "nbconvert_exporter": "python",
   "pygments_lexer": "ipython3",
   "version": "3.8.5"
  }
 },
 "nbformat": 4,
 "nbformat_minor": 4
}
